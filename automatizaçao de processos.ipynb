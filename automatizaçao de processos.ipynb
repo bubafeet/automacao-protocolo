{
 "cells": [
  {
   "cell_type": "code",
   "execution_count": 2,
   "id": "d76bb1dd",
   "metadata": {},
   "outputs": [],
   "source": [
    "import pyautogui\n",
    "import time\n",
    "import pyperclip\n"
   ]
  },
  {
   "cell_type": "code",
   "execution_count": 26,
   "id": "66fefccc",
   "metadata": {},
   "outputs": [],
   "source": [
    "pyautogui.PAUSE = 1\n",
    "\n",
    "# Entrar no EPROC\n",
    "\n",
    "pyautogui.press (\"winleft\")\n",
    "pyautogui.write (\"chrome\")\n",
    "pyautogui.press (\"enter\")\n",
    "pyautogui.alert (\"Nao aparte em nada ou mexa o mouse, pressione Ok para continuar\")\n",
    "link = \"https://eproc1g.tjrs.jus.br/eproc/externo_controlador.php?acao=principal\"\n",
    "pyperclip.copy (link)\n",
    "pyautogui.hotkey (\"ctrl\", \"v\")\n",
    "pyautogui. press (\"enter\")\n",
    "time.sleep (3)\n",
    "# logar no eproc\n",
    "pyautogui.press (\"tab\")\n",
    "pyautogui.write (\"Buba25@\")\n",
    "pyautogui.press (\"enter\")\n",
    "time.sleep (3)\n",
    "pyautogui.click (x=1520, y=163)\n",
    "pyautogui.write (\"50075495020208210022\")\n",
    "pyautogui.press (\"enter\")\n",
    "time.sleep (3)\n",
    "#peticionar\n",
    "\n",
    "pyautogui.click (x=1357, y=885)\n",
    "time.sleep (3)\n",
    "pyautogui.write (\"peticao\")\n",
    "time.sleep (4)\n",
    "pyautogui.press (\"enter\")\n",
    "pyautogui.click (x=236, y=704)\n",
    "pyautogui.click (x=122, y=273)\n",
    "pyautogui.click (x=289, y=230, clicks=2)\n",
    "pyautogui.click (x=354, y=910, clicks=2)\n",
    "pyautogui.click (x=325, y=693, clicks=2)\n",
    "time.sleep (2)\n",
    "pyautogui.click (x=362, y=729, clicks=2)\n",
    "pyautogui.write (\"peticao\")\n",
    "pyautogui.press (\"enter\")\n",
    "pyautogui.press (\"enter\")\n",
    "time.sleep (2)\n",
    "pyautogui.click (x=958, y=795)\n",
    "\n",
    "\n",
    "\n",
    "\n",
    "\n",
    "    "
   ]
  },
  {
   "cell_type": "code",
   "execution_count": 24,
   "id": "4d2ae482",
   "metadata": {},
   "outputs": [
    {
     "data": {
      "text/plain": [
       "Point(x=362, y=729)"
      ]
     },
     "execution_count": 24,
     "metadata": {},
     "output_type": "execute_result"
    }
   ],
   "source": [
    "time.sleep (5)\n",
    "pyautogui.position ()"
   ]
  },
  {
   "cell_type": "code",
   "execution_count": null,
   "id": "25915ea9",
   "metadata": {},
   "outputs": [],
   "source": []
  }
 ],
 "metadata": {
  "kernelspec": {
   "display_name": "Python 3 (ipykernel)",
   "language": "python",
   "name": "python3"
  },
  "language_info": {
   "codemirror_mode": {
    "name": "ipython",
    "version": 3
   },
   "file_extension": ".py",
   "mimetype": "text/x-python",
   "name": "python",
   "nbconvert_exporter": "python",
   "pygments_lexer": "ipython3",
   "version": "3.9.7"
  }
 },
 "nbformat": 4,
 "nbformat_minor": 5
}
